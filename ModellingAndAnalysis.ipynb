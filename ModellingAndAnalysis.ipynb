{
  "nbformat": 4,
  "nbformat_minor": 0,
  "metadata": {
    "colab": {
      "name": "ModellingAndAnalysis.ipynb",
      "provenance": [],
      "collapsed_sections": []
    },
    "kernelspec": {
      "name": "python3",
      "display_name": "Python 3"
    },
    "language_info": {
      "name": "python"
    }
  },
  "cells": [
    {
      "cell_type": "code",
      "execution_count": null,
      "metadata": {
        "id": "S0XXJ56BQ15H"
      },
      "outputs": [],
      "source": [
        "import numpy as np \n",
        "import pandas as pd \n",
        "import os\n",
        "from IPython.core.interactiveshell import InteractiveShell\n",
        "InteractiveShell.ast_node_interactivity = \"all\"\n",
        "import math\n",
        "import json\n",
        "import time\n",
        "import matplotlib.pyplot as plt\n",
        "import seaborn as sns\n",
        "from sklearn.metrics.pairwise import cosine_similarity\n",
        "from sklearn.model_selection import train_test_split\n",
        "from sklearn.neighbors import NearestNeighbors\n",
        "from sklearn.externals import joblib\n",
        "import scipy.sparse\n",
        "from scipy.sparse import csr_matrix\n",
        "from scipy.sparse.linalg import svds\n",
        "import warnings; warnings.simplefilter('ignore')\n",
        "%matplotlib inline\n",
        "\n"
      ]
    },
    {
      "cell_type": "code",
      "source": [
        "df_electronics=pd.read_csv(\"ratings_Electronics.csv\",names=['userId', 'productId','Rating','timestamp'])"
      ],
      "metadata": {
        "id": "V7X5bRQ0Q-Cd"
      },
      "execution_count": null,
      "outputs": []
    },
    {
      "cell_type": "code",
      "source": [
        "# Display the data\n",
        "df_electronics.head()"
      ],
      "metadata": {
        "id": "uC6jBegWRJhN"
      },
      "execution_count": null,
      "outputs": []
    },
    {
      "cell_type": "code",
      "source": [
        "#Shape of the data\n",
        "df_electronics.shape"
      ],
      "metadata": {
        "id": "s-iM1zAoRJpt"
      },
      "execution_count": null,
      "outputs": []
    },
    {
      "cell_type": "code",
      "source": [
        "#Taking subset of the dataset as the data is huge\n",
        "df_electronics=df_electronics.iloc[:1048576,0:]"
      ],
      "metadata": {
        "id": "t4nkrO8QRJs0"
      },
      "execution_count": null,
      "outputs": []
    },
    {
      "cell_type": "code",
      "source": [
        "df_electronics.info()"
      ],
      "metadata": {
        "id": "Mw4fyGLjRf1h"
      },
      "execution_count": null,
      "outputs": []
    },
    {
      "cell_type": "code",
      "source": [
        "# Summary \n",
        "df_electronics.describe()['Rating'].T"
      ],
      "metadata": {
        "id": "H-KRCG5xRf3y"
      },
      "execution_count": null,
      "outputs": []
    },
    {
      "cell_type": "code",
      "source": [
        "#Understanding the range of ratings\n",
        "print('Minimum rating is: ', (df_electronics.Rating.min()))\n",
        "print('Maximum rating is: ', (df_electronics.Rating.max()))"
      ],
      "metadata": {
        "id": "S_I8lzTaRf6M"
      },
      "execution_count": null,
      "outputs": []
    },
    {
      "cell_type": "code",
      "source": [
        "#looking for missing values \n",
        "print('Number of missing values across columns: \\n',df_electronics.isnull().sum())"
      ],
      "metadata": {
        "id": "5Uwha6nPRf8g"
      },
      "execution_count": null,
      "outputs": []
    },
    {
      "cell_type": "code",
      "source": [
        "# Rating Distribution\n",
        "with sns.axes_style('black'):\n",
        "    g = sns.factorplot(\"Rating\", data=df_electronics, aspect=2.0,kind='count')\n",
        "    g.set_ylabels(\" Checking Total number of ratings\")\n"
      ],
      "metadata": {
        "id": "oxPfZjLUQ-LC"
      },
      "execution_count": null,
      "outputs": []
    },
    {
      "cell_type": "code",
      "source": [
        "print(\"Total data \")\n",
        "print(\"\\nNo of ratings :\",df_electronics.shape[0])\n",
        "print(\" No of Users   :\", len(np.unique(df_electronics.userId)))\n",
        "print(\" No of products  :\", len(np.unique(df_electronics.productId)))\n"
      ],
      "metadata": {
        "id": "7CXh0sxSQ-N6"
      },
      "execution_count": null,
      "outputs": []
    },
    {
      "cell_type": "code",
      "source": [
        "#Dropping irrelevant columns  \n",
        "df_electronics.drop(['timestamp'], axis=1,inplace=True)"
      ],
      "metadata": {
        "id": "4ncZOoEER5cj"
      },
      "execution_count": null,
      "outputs": []
    },
    {
      "cell_type": "code",
      "source": [
        "#Analysis of rating given by the user \n",
        "\n",
        "rate_products_eachUser = df_electronics.groupby(by='userId')['Rating'].count().sort_values(ascending=False)\n",
        "\n",
        "rate_products_eachUser.head()"
      ],
      "metadata": {
        "id": "_6nm1bvFR5fH"
      },
      "execution_count": null,
      "outputs": []
    },
    {
      "cell_type": "code",
      "source": [
        "rate_products_eachUser.describe()"
      ],
      "metadata": {
        "id": "xMZdczVFR5iC"
      },
      "execution_count": null,
      "outputs": []
    },
    {
      "cell_type": "code",
      "source": [
        "check_quantile = rate_products_eachUser.quantile(np.arange(0,1.01,0.01), interpolation='higher')check_quantile = rate_products_eachUser.quantile(np.arange(0,1.01,0.01), interpolation='higher')\n",
        "plt.figure(figsize=(12,11))\n",
        "plt.title(\"check_quantile & Values\")\n",
        "check_quantile.plot()\n",
        "# check_quantile with 0.10 difference\n",
        "plt.scatter(x=check_quantile.index[::5], y=check_quantile.values[::10], c='orange', label=\"check_quantile with 0.10 intervals\")\n",
        "# check_quantile with 0.30 difference\n",
        "plt.scatter(x=check_quantile.index[::30], y=check_quantile.values[::30], c='m', label = \"check_quantile with 0.30 intervals\")\n",
        "plt.ylabel('No of ratings by user')\n",
        "plt.xlabel('Value at the quantile')\n",
        "plt.show()"
      ],
      "metadata": {
        "id": "SSkwHbIzR5k6"
      },
      "execution_count": null,
      "outputs": []
    },
    {
      "cell_type": "code",
      "source": [
        "print('\\n No of rated products more than 50 per user : {}\\n'.format(sum(rate_products_eachUser >= 50)) )"
      ],
      "metadata": {
        "id": "VSBpHqVfR5nt"
      },
      "execution_count": null,
      "outputs": []
    },
    {
      "cell_type": "markdown",
      "source": [
        "Demand Based Model\n"
      ],
      "metadata": {
        "id": "ZDyuzZ74SQYZ"
      }
    },
    {
      "cell_type": "code",
      "source": [
        "#Getting the new dataframe which contains users who has given 50 or more ratings\n",
        "\n",
        "df_filtered=df_electronics.groupby(\"productId\").filter(lambda x:x['Rating'].count() >=50)"
      ],
      "metadata": {
        "id": "Q1vyi6xdR5qE"
      },
      "execution_count": null,
      "outputs": []
    },
    {
      "cell_type": "code",
      "source": [
        "no_of_ratings_per_product = df_filtered.groupby(by='productId')['Rating'].count().sort_values(ascending=False)\n",
        "\n",
        "fig = plt.figure(figsize=plt.figaspect(.5))\n",
        "ax = plt.gca()\n",
        "plt.plot(no_of_ratings_per_product.values)\n",
        "plt.xlabel('Product')\n",
        "plt.ylabel('No of ratings per product')\n",
        "\n",
        "plt.show()"
      ],
      "metadata": {
        "id": "b3VM7YpfR5s8"
      },
      "execution_count": null,
      "outputs": []
    },
    {
      "cell_type": "code",
      "source": [
        "#Average rating of the product \n",
        "df_filtered.groupby('productId')['Rating'].mean().head()"
      ],
      "metadata": {
        "id": "oKCnY6a1SU2d"
      },
      "execution_count": null,
      "outputs": []
    },
    {
      "cell_type": "code",
      "source": [
        "# Average highest rating of the products\n",
        "df_filtered.groupby('productId')['Rating'].mean().sort_values(ascending=False).head()"
      ],
      "metadata": {
        "id": "kuxBeYEtSU5E"
      },
      "execution_count": null,
      "outputs": []
    },
    {
      "cell_type": "code",
      "source": [
        "#Total number of rating for product\n",
        "df_filtered.groupby('productId')['Rating'].count().sort_values(ascending=False).head()"
      ],
      "metadata": {
        "id": "JgxYbpVSSU7p"
      },
      "execution_count": null,
      "outputs": []
    },
    {
      "cell_type": "code",
      "source": [
        "ratings_mean = pd.DataFrame(df_filtered.groupby('productId')['Rating'].mean())"
      ],
      "metadata": {
        "id": "Mq4-Xir5SeRH"
      },
      "execution_count": null,
      "outputs": []
    },
    {
      "cell_type": "code",
      "source": [
        "ratings_mean['rating_counts'] = pd.DataFrame(df_filtered.groupby('productId')['Rating'].count())"
      ],
      "metadata": {
        "id": "Rviu2KEuSeTp"
      },
      "execution_count": null,
      "outputs": []
    },
    {
      "cell_type": "code",
      "source": [
        "# Max number of ratings\n",
        "ratings_mean['rating_counts'].max()"
      ],
      "metadata": {
        "id": "BIECd_NjSeWQ"
      },
      "execution_count": null,
      "outputs": []
    },
    {
      "cell_type": "code",
      "source": [
        "# Histogram showing rating counts\n",
        "plt.figure(figsize=(8,6))\n",
        "plt.rcParams['patch.force_edgecolor'] = True\n",
        "ratings_mean['rating_counts'].hist(bins=50)"
      ],
      "metadata": {
        "id": "IB4lK3IrSeYn"
      },
      "execution_count": null,
      "outputs": []
    },
    {
      "cell_type": "code",
      "source": [
        "# Histogram showing the ratings\n",
        "plt.figure(figsize=(8,6))\n",
        "plt.rcParams['patch.force_edgecolor'] = True\n",
        "ratings_mean['Rating'].hist(bins=50)"
      ],
      "metadata": {
        "id": "Vz_bBcDySebP"
      },
      "execution_count": null,
      "outputs": []
    },
    {
      "cell_type": "code",
      "source": [
        "# Comparing the rating counts over ratings\n",
        "plt.figure(figsize=(8,6))\n",
        "plt.rcParams['patch.force_edgecolor'] = True\n",
        "sns.jointplot(x='Rating', y='rating_counts', data=ratings_mean, alpha=0.4)"
      ],
      "metadata": {
        "id": "YCIK_TF9Stms"
      },
      "execution_count": null,
      "outputs": []
    },
    {
      "cell_type": "code",
      "source": [
        "demanded_products = pd.DataFrame(df_filtered.groupby('productId')['Rating'].count())\n",
        "most_popular = demanded_products.sort_values('Rating', ascending=False)\n",
        "most_popular.head(30).plot(kind = \"bar\")"
      ],
      "metadata": {
        "id": "dDU-M_8LStp7"
      },
      "execution_count": null,
      "outputs": []
    },
    {
      "cell_type": "markdown",
      "source": [
        "Collaberative filtering (Item-Item recommedation)"
      ],
      "metadata": {
        "id": "sqofjPfqTKnZ"
      }
    },
    {
      "cell_type": "code",
      "source": [
        "\"\"\"\n",
        "Surprise is a Python scikit for building and analyzing recommender systems that deals with explicit rating data.\n",
        "\"\"\"\n",
        "\n",
        "from surprise import SVD,  SlopeOne\n",
        "from surprise import KNNBaseline, KNNBasic\n",
        "\n",
        "from surprise import Dataset\n",
        "from surprise import accuracy\n",
        "from surprise import Reader\n",
        "import os\n",
        "from surprise.model_selection import train_test_split"
      ],
      "metadata": {
        "id": "Bf15ZVYcSttV"
      },
      "execution_count": null,
      "outputs": []
    },
    {
      "cell_type": "code",
      "source": [
        "#Reading the dataset\n",
        "reader = Reader(rating_scale=(1, 5))\n",
        "data = Dataset.load_from_df(df_filtered,reader)"
      ],
      "metadata": {
        "id": "HgdU40-VStwQ"
      },
      "execution_count": null,
      "outputs": []
    },
    {
      "cell_type": "code",
      "source": [
        "#Splitting the dataset, going with the traditional 70-30 split\n",
        "trainSet, testSet = train_test_split(data, test_size=0.3,random_state=10)"
      ],
      "metadata": {
        "id": "rvHbqKn1Styi"
      },
      "execution_count": null,
      "outputs": []
    },
    {
      "cell_type": "code",
      "source": [
        "# Defining bsl_options and sim_options for all methods , \n",
        "# Documentation: https://surprise.readthedocs.io/en/stable/prediction_algorithms.html#similarity-measures-configuration\n",
        "bsl_options = {'method': 'als', 'n_epochs': 5, 'reg_u': 12, 'reg_i': 5 }\n",
        "sim_options={'name': 'pearson_baseline', 'user_based': False}"
      ],
      "metadata": {
        "id": "UnVMgj4HTWG1"
      },
      "execution_count": null,
      "outputs": []
    },
    {
      "cell_type": "code",
      "source": [
        "## 1st approach with basic KNN\n",
        "\n",
        "# defining user_based true/false field to switch between user-based or item-based collaborative filtering\n",
        "mod_KNNBasic = KNNBasic(k=5,sim_options = sim_options , bsl_options = bsl_options)\n",
        "predictions_KNNBasic = mod_KNNBasic.fit(trainSet).test(testSet)\n",
        "rmse_KNNBasic = accuracy.rmse(predictions_KNNBasic)"
      ],
      "metadata": {
        "id": "QmbCRmiLTWMB"
      },
      "execution_count": null,
      "outputs": []
    },
    {
      "cell_type": "markdown",
      "source": [
        "### A basic collaborative filtering algorithm taking into account a baseline rating.¶\n"
      ],
      "metadata": {
        "id": "EwBce83_TkmC"
      }
    },
    {
      "cell_type": "code",
      "source": [
        "## 2nd approach using a baseline rating \n",
        "\n",
        "mod_KNNBaseline = KNNBaseline(k=5,sim_options = sim_options , bsl_options = bsl_options)\n",
        "predictions_KNNBaseline = mod_KNNBaseline.fit(trainSet).test(testSet)\n",
        "rmse_KNNBaseline = accuracy.rmse(predictions_KNNBaseline)"
      ],
      "metadata": {
        "id": "0iH153jgTWOt"
      },
      "execution_count": null,
      "outputs": []
    },
    {
      "cell_type": "markdown",
      "source": [
        "Model-based collaborative filtering system"
      ],
      "metadata": {
        "id": "H_qE-zxTT9Fc"
      }
    },
    {
      "cell_type": "code",
      "source": [
        "# Matrix Factorization-based SVD\n",
        "from surprise import SVD\n",
        "\n",
        "mod_SVD = SVD()\n",
        "predictions_SVD = mod_SVD.fit(trainSet).test(testSet)\n",
        "rmse_SVD = accuracy.rmse(predictions_SVD)"
      ],
      "metadata": {
        "id": "Fv_JyIbNSed1"
      },
      "execution_count": null,
      "outputs": []
    },
    {
      "cell_type": "code",
      "source": [
        "# Matrix Factorization-based SlopeOne\n",
        "from surprise import  SlopeOne\n",
        "\n",
        "mod_SlopeOne = SlopeOne()\n",
        "predictions_SlopeOne = mod_SlopeOne.fit(trainSet).test(testSet)\n",
        "rmse_SlopeOne = accuracy.rmse(predictions_SlopeOne)"
      ],
      "metadata": {
        "id": "NKjrbGVjUGrx"
      },
      "execution_count": null,
      "outputs": []
    },
    {
      "cell_type": "markdown",
      "source": [
        "Item-based methods vs Model-Based methods\n",
        "\n",
        "For item based models, algo.get_neighbors() will produce the nearest neighbors to a product, if purchased by user and the neighbors of that product are to be recommended to the user. \n",
        "\n",
        "For model-based methods, algo.predict(user_id, product_id) can be used to create a list of reccomended items.\n",
        "\n",
        "Both approaches have different use cases and our implied accordingly.\n"
      ],
      "metadata": {
        "id": "o3xIWCe1USK5"
      }
    },
    {
      "cell_type": "code",
      "source": [
        "# List of all unique users and products\n",
        "\n",
        "unique_user_ids = list(df_filtered['userId'].unique())\n",
        "unique_products = list(df_filtered['productId'].unique())\n",
        "\n",
        "unique_user_ids[:5]\n",
        "unique_products[:5]"
      ],
      "metadata": {
        "id": "0SqNyt5xUGum"
      },
      "execution_count": null,
      "outputs": []
    },
    {
      "cell_type": "code",
      "source": [
        "# Number of unique users present in the dataset\n",
        "len(unique_user_ids)"
      ],
      "metadata": {
        "id": "qWBenAZCUGxL"
      },
      "execution_count": null,
      "outputs": []
    },
    {
      "cell_type": "code",
      "source": [
        "# Choosing a random index for a particular user to generate recommended items list\n",
        "\n",
        "user_index = 100\n",
        "uid = unique_user_ids[user_index]"
      ],
      "metadata": {
        "id": "KNCy5BuJUG0B"
      },
      "execution_count": null,
      "outputs": []
    },
    {
      "cell_type": "code",
      "source": [
        "# Applying KNNBasic\n",
        "# Listing items already purchased by user chosen above\n",
        "\n",
        "items_purchased = trainSet.ur[trainSet.to_inner_uid(uid)]\n",
        "\n",
        "print(\"User \" + str(uid) +  \" has previously purchased items with productId: \")\n",
        "for items in items_purchased[0]: \n",
        "    print(mod_KNNBasic.trainSet.to_raw_iid(items))\n",
        "\n",
        "#getting K Neareset Neighbors for first item purchased by our user\n",
        "KNN__rec_Product = mod_KNNBasic.get_neighbors(items_purchased[0][0], 13)\n",
        "\n",
        "recommended_products = []\n",
        "for product_iid in KNN__rec_Product:\n",
        "    if not product_iid in items_purchased[0]: \n",
        "        purchased_item = mod_KNNBasic.trainSet.to_raw_iid(product_iid)\n",
        "        recommended_products.append(purchased_item)\n",
        "print(\"Items recommended for user \" + str(uid) + \" by KNNBasic \\n\"  , recommended_products)    "
      ],
      "metadata": {
        "id": "o-ftoW4kUa0i"
      },
      "execution_count": null,
      "outputs": []
    },
    {
      "cell_type": "code",
      "source": [
        "# Applying KNNBaseline\n",
        "\n",
        "items_purchased = trainSet.ur[trainSet.to_inner_uid(uid)]\n",
        "\n",
        "\n",
        "print(\"User \" + str(uid) +  \" has previously purchased items with productId: \")\n",
        "for items in items_purchased[0]: \n",
        "    print(mod_KNNBaseline.trainSet.to_raw_iid(items))\n",
        "\n",
        "\n",
        "\n",
        "#getting K Neareset Neighbors for first item purchased by the choosen user\n",
        "KNN__rec_Product = mod_KNNBaseline.get_neighbors(items_purchased[0][0], 13)\n",
        "\n",
        "recommended_products = []\n",
        "for product_iid in KNN__rec_Product:\n",
        "    if not product_iid in items_purchased[0]: \n",
        "        purchased_item = mod_KNNBaseline.trainSet.to_raw_iid(product_iid)\n",
        "        recommended_products.append(purchased_item)\n",
        "print(\"Items recommended for user \" + str(uid) + \" by KNNBaseline \\n\"  , recommended_products)    "
      ],
      "metadata": {
        "id": "oeC0k8_gUa3K"
      },
      "execution_count": null,
      "outputs": []
    },
    {
      "cell_type": "code",
      "source": [
        "# Applying SVD\n",
        "\n",
        "items_purchased = trainSet.ur[trainSet.to_inner_uid(uid)]\n",
        "\n",
        "\n",
        "print(\"User \" + str(uid) +  \" has previously purchased items with productId: \")\n",
        "for items in items_purchased[0]: \n",
        "    print(mod_SVD.trainSet.to_raw_iid(items))\n",
        "\n",
        "\n",
        "recommended_products = []\n",
        "\n",
        "UserID = unique_user_ids[user_index]\n",
        "\n",
        "for product_id in unique_products:\n",
        "    pred = mod_SVD.predict(UserID,  product_id, r_ui=4, verbose=True)\n",
        "    recommended_products.append(pred)\n",
        "    \n",
        "print(\"Items recommended for user \" + str(uid) + \" by SVD \\n\", recommended_products)"
      ],
      "metadata": {
        "id": "A2qcT0DIVIo9"
      },
      "execution_count": null,
      "outputs": []
    },
    {
      "cell_type": "markdown",
      "source": [
        "## Analysis "
      ],
      "metadata": {
        "id": "5ceEvAkCVhaa"
      }
    },
    {
      "cell_type": "code",
      "source": [
        "#Predictions for KNNBasic\n",
        "\n",
        "pred_KNNBasic = pd.DataFrame(predictions_KNNBasic, columns=['uid', 'iid', 'rui', 'est', 'details'])\n",
        "pred_KNNBasic['Iu'] = pred_KNNBasic.uid.apply(get_Iu)\n",
        "pred_KNNBasic['Ui'] = pred_KNNBasic.iid.apply(get_Ui)\n",
        "pred_KNNBasic['err'] = abs(pred_KNNBasic.est - pred_KNNBasic.rui)"
      ],
      "metadata": {
        "id": "GjYyJoZGVJW-"
      },
      "execution_count": null,
      "outputs": []
    },
    {
      "cell_type": "code",
      "source": [
        "pred_KNNBasic.head()"
      ],
      "metadata": {
        "id": "9bITP_Z_VJZi"
      },
      "execution_count": null,
      "outputs": []
    },
    {
      "cell_type": "code",
      "source": [
        "best_predictions = pred_KNNBasic.sort_values(by='err')[:10]\n",
        "best_predictions"
      ],
      "metadata": {
        "id": "oOA9PvdrVJcO"
      },
      "execution_count": null,
      "outputs": []
    },
    {
      "cell_type": "code",
      "source": [
        "print(\"For KNNBasic: \\n\")\n",
        "print(\"\\nTotal no of ratings :\",pred_KNNBasic.shape[0])\n",
        "print(\"Total No of Users   :\", len(np.unique(pred_KNNBasic.uid)))\n",
        "print(\"Total No of products  :\", len(np.unique(pred_KNNBasic.iid)))\n"
      ],
      "metadata": {
        "id": "hzlhWQyiVxFL"
      },
      "execution_count": null,
      "outputs": []
    },
    {
      "cell_type": "code",
      "source": [
        "#Predictions for KNNBaseline\n",
        "\n",
        "pred_KNNBaseline = pd.DataFrame(predictions_KNNBaseline, columns=['uid', 'iid', 'rui', 'est', 'details'])\n",
        "pred_KNNBaseline['Iu'] = pred_KNNBaseline.uid.apply(get_Iu)\n",
        "pred_KNNBaseline['Ui'] = pred_KNNBaseline.iid.apply(get_Ui)\n",
        "pred_KNNBaseline['err'] = abs(pred_KNNBaseline.est - pred_KNNBaseline.rui)"
      ],
      "metadata": {
        "id": "nFHBCJniV50Y"
      },
      "execution_count": null,
      "outputs": []
    },
    {
      "cell_type": "code",
      "source": [
        "pred_KNNBaseline.head()"
      ],
      "metadata": {
        "id": "zSgPxh9dV53J"
      },
      "execution_count": null,
      "outputs": []
    },
    {
      "cell_type": "code",
      "source": [
        "best_predictions = pred_KNNBaseline.sort_values(by='err')[:10]\n",
        "best_predictions"
      ],
      "metadata": {
        "id": "UZB7qP17V55w"
      },
      "execution_count": null,
      "outputs": []
    },
    {
      "cell_type": "code",
      "source": [
        "print(\"For KNNBaseline: \\n\")\n",
        "print(\"\\nTotal no of ratings :\",pred_KNNBaseline.shape[0])\n",
        "print(\"Total No of Users   :\", len(np.unique(pred_KNNBaseline.uid)))\n",
        "print(\"Total No of products  :\", len(np.unique(pred_KNNBaseline.iid)))\n"
      ],
      "metadata": {
        "id": "G1T59XoAWGbX"
      },
      "execution_count": null,
      "outputs": []
    },
    {
      "cell_type": "code",
      "source": [
        "#Predictions for SVD\n",
        "\n",
        "pred_SVD = pd.DataFrame(predictions_SVD, columns=['uid', 'iid', 'rui', 'est', 'details'])\n",
        "pred_SVD['Iu'] = pred_SVD.uid.apply(get_Iu)\n",
        "pred_SVD['Ui'] = pred_SVD.iid.apply(get_Ui)\n",
        "pred_SVD['err'] = abs(pred_SVD.est - pred_SVD.rui)\n",
        "\n",
        "pred_SVD.head()"
      ],
      "metadata": {
        "id": "r7-9MpuQXAha"
      },
      "execution_count": null,
      "outputs": []
    },
    {
      "cell_type": "code",
      "source": [
        "best_predictions = pred_SVD.sort_values(by='err')[:10]\n",
        "best_predictions"
      ],
      "metadata": {
        "id": "FBe-Q6NRXEd0"
      },
      "execution_count": null,
      "outputs": []
    },
    {
      "cell_type": "code",
      "source": [
        "print(\"For SVD: \\n\")\n",
        "print(\"\\nTotal no of ratings :\",pred_SVD.shape[0])\n",
        "print(\"Total No of Users   :\", len(np.unique(pred_SVD.uid)))\n",
        "print(\"Total No of products  :\", len(np.unique(pred_SVD.iid)))"
      ],
      "metadata": {
        "id": "XMioCTxHXNQX"
      },
      "execution_count": null,
      "outputs": []
    },
    {
      "cell_type": "code",
      "source": [
        "#Predictions for SlopeOne\n",
        "\n",
        "pred_SlopeOne = pd.DataFrame(predictions_SlopeOne, columns=['uid', 'iid', 'rui', 'est', 'details'])\n",
        "pred_SlopeOne['Iu'] = pred_SlopeOne.uid.apply(get_Iu)\n",
        "pred_SlopeOne['Ui'] = pred_SlopeOne.iid.apply(get_Ui)\n",
        "pred_SlopeOne['err'] = abs(pred_SlopeOne.est - pred_SlopeOne.rui)\n",
        "\n",
        "pred_SlopeOne.head()"
      ],
      "metadata": {
        "id": "xHbKEu8eXQev"
      },
      "execution_count": null,
      "outputs": []
    },
    {
      "cell_type": "code",
      "source": [
        "best_predictions = pred_SlopeOne.sort_values(by='err')[:10]\n",
        "best_predictions"
      ],
      "metadata": {
        "id": "McILAMHgXUA3"
      },
      "execution_count": null,
      "outputs": []
    },
    {
      "cell_type": "code",
      "source": [
        "print(\"For SlopeOne: \\n\")\n",
        "print(\"\\nTotal no of ratings :\",pred_SlopeOne.shape[0])\n",
        "print(\"Total No of Users   :\", len(np.unique(pred_SlopeOne.uid)))\n",
        "print(\"Total No of products  :\", len(np.unique(pred_SlopeOne.iid)))"
      ],
      "metadata": {
        "id": "NzEf-8KtXcj5"
      },
      "execution_count": null,
      "outputs": []
    }
  ]
}